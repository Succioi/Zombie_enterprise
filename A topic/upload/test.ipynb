{
 "cells": [
  {
   "cell_type": "code",
   "execution_count": null,
   "id": "5bec6ad2",
   "metadata": {},
   "outputs": [],
   "source": [
    "# 导入所需的库\n",
    "import pandas as pd\n",
    "from keras.models import load_model\n",
    "from sklearn.preprocessing import MinMaxScaler\n",
    "data_test = pd.read_csv(\"../n1.csv\")\n",
    "# 查看数据的基本信息\n",
    "print(data_test.info())\n",
    "print(data_test.head())\n",
    "\n",
    "# 载入权重模型\n",
    "model = load_model(\"weight2_data_train_9.h5\")\n",
    "# 定义自变量\n",
    "X_new = data_test.loc[:,['assgro','liagro','vendinc','maibusinc','progro','netinc','ass_lia_rat','ROA','loss_cnt']]\n",
    "\n",
    "# 归一化数据\n",
    "scaler = MinMaxScaler()\n",
    "X_new = scaler.fit_transform(X_new)\n",
    "\n",
    "# 预测新的数据\n",
    "y_new = model.predict(X_new)\n",
    "y_new = (y_new > 0.5).astype(int)\n",
    "# 将预测结果添加到新的数据中\n",
    "data_test[\"zombie_pred\"] = y_new\n",
    "# 查看新的数据的前几行\n",
    "print(data_test.head())\n",
    "# 保存新的数据到一个文件中\n",
    "data_test.to_csv(\"new_data_pred.csv\", index=False)\n"
   ]
  }
 ],
 "metadata": {
  "kernelspec": {
   "display_name": "Python 3",
   "language": "python",
   "name": "python3"
  },
  "language_info": {
   "codemirror_mode": {
    "name": "ipython",
    "version": 3
   },
   "file_extension": ".py",
   "mimetype": "text/x-python",
   "name": "python",
   "nbconvert_exporter": "python",
   "pygments_lexer": "ipython3",
   "version": "3.8.8"
  }
 },
 "nbformat": 4,
 "nbformat_minor": 5
}
