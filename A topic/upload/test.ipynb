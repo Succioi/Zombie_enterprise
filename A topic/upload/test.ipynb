{
 "cells": [
  {
   "cell_type": "code",
   "execution_count": null,
   "id": "e1370250",
   "metadata": {},
   "outputs": [],
   "source": [
    "# 导入所需的库\n",
    "import pandas as pd\n",
    "from keras.models import load_model\n",
    "from sklearn.preprocessing import MinMaxScaler\n",
    "from sklearn.metrics import f1_score\n",
    "\n",
    "data_true = pd.read_csv('y_train.csv')\n",
    "data_test = pd.read_csv(\"data_test.csv\")\n",
    "# 查看数据的基本信息\n",
    "print(data_test.info())\n",
    "print(data_test.head())\n",
    "\n",
    "# 载入权重模型\n",
    "model = load_model(\"weight/weight2_data_train_9_ClusterCentroids.h5\")\n",
    "# 定义自变量\n",
    "# X_new = data_test.drop([\"ent_id\",\"ent_type\"], axis=1)\n",
    "X_new = data_test.loc[:,['assgro','liagro','vendinc','maibusinc','progro','netinc','ass_lia_rat','ROA','loss_cnt']]\n",
    "# 归一化数据\n",
    "scaler = MinMaxScaler()\n",
    "X_new = scaler.fit_transform(X_new)\n",
    "\n",
    "# 预测新的数据\n",
    "y_new = model.predict(X_new)\n",
    "print(y_new)\n",
    "y_new = (y_new > 0.575).astype(int)\n",
    "# 将预测结果添加到新的数据中\n",
    "data_test[\"zombie_pred\"] = y_new\n",
    "# 保存新的数据到一个文件中\n",
    "data_test.to_csv(\"new_data_pred.csv\", index=False)\n",
    "\n",
    "print('Test:')\n",
    "score, accuracy = model.evaluate(X_new,y_new,batch_size=64)\n",
    "f1 = f1_score(y_true=data_true,y_pred=y_new)\n",
    "print('Test Score:{:.3}'.format(score))\n",
    "print('Test accuracy:{:.3}'.format(accuracy))\n",
    "print('f1_score:{:.3}'.format(f1))"
   ]
  }
 ],
 "metadata": {
  "kernelspec": {
   "display_name": "Python 3",
   "language": "python",
   "name": "python3"
  },
  "language_info": {
   "codemirror_mode": {
    "name": "ipython",
    "version": 3
   },
   "file_extension": ".py",
   "mimetype": "text/x-python",
   "name": "python",
   "nbconvert_exporter": "python",
   "pygments_lexer": "ipython3",
   "version": "3.8.8"
  }
 },
 "nbformat": 4,
 "nbformat_minor": 5
}
